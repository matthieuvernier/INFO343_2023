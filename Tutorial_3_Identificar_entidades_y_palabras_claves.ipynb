{
 "cells": [
  {
   "cell_type": "markdown",
   "id": "77ee44e1",
   "metadata": {},
   "source": [
    "# Identificar entidades y palabras claves en las noticias"
   ]
  },
  {
   "cell_type": "markdown",
   "id": "fc5810e1",
   "metadata": {},
   "source": [
    "# 0. Import"
   ]
  },
  {
   "cell_type": "code",
   "execution_count": 2,
   "id": "a8632915",
   "metadata": {},
   "outputs": [],
   "source": [
    "import pandas as pd"
   ]
  },
  {
   "cell_type": "code",
   "execution_count": 4,
   "id": "b7082e95",
   "metadata": {},
   "outputs": [
    {
     "name": "stdout",
     "output_type": "stream",
     "text": [
      "3.5.2\n"
     ]
    }
   ],
   "source": [
    "import spacy\n",
    "\n",
    "print(spacy.__version__)"
   ]
  },
  {
   "cell_type": "code",
   "execution_count": 5,
   "id": "aea1d175",
   "metadata": {},
   "outputs": [],
   "source": [
    "nlp = spacy.load(\"es_core_news_md\")"
   ]
  },
  {
   "cell_type": "code",
   "execution_count": 26,
   "id": "8679b072",
   "metadata": {},
   "outputs": [],
   "source": [
    "from spacy.matcher import Matcher\n",
    "from collections import Counter"
   ]
  },
  {
   "cell_type": "markdown",
   "id": "5ed9b9d8",
   "metadata": {},
   "source": [
    "# 1. Leer dataset"
   ]
  },
  {
   "cell_type": "code",
   "execution_count": 11,
   "id": "2f770de2",
   "metadata": {},
   "outputs": [
    {
     "data": {
      "text/html": [
       "<div>\n",
       "<style scoped>\n",
       "    .dataframe tbody tr th:only-of-type {\n",
       "        vertical-align: middle;\n",
       "    }\n",
       "\n",
       "    .dataframe tbody tr th {\n",
       "        vertical-align: top;\n",
       "    }\n",
       "\n",
       "    .dataframe thead th {\n",
       "        text-align: right;\n",
       "    }\n",
       "</style>\n",
       "<table border=\"1\" class=\"dataframe\">\n",
       "  <thead>\n",
       "    <tr style=\"text-align: right;\">\n",
       "      <th></th>\n",
       "      <th>id_news</th>\n",
       "      <th>country</th>\n",
       "      <th>media_outlet</th>\n",
       "      <th>url</th>\n",
       "      <th>title</th>\n",
       "      <th>text</th>\n",
       "      <th>date</th>\n",
       "      <th>search</th>\n",
       "      <th>Lago_Ranco</th>\n",
       "      <th>Los_Lagos</th>\n",
       "      <th>Futrono</th>\n",
       "      <th>Río_Bueno</th>\n",
       "      <th>La_Unión</th>\n",
       "      <th>Panguipulli</th>\n",
       "      <th>Paillaco</th>\n",
       "      <th>Corral</th>\n",
       "      <th>Máfil</th>\n",
       "      <th>Lanco</th>\n",
       "      <th>Mariquina</th>\n",
       "      <th>Valdivia</th>\n",
       "    </tr>\n",
       "  </thead>\n",
       "  <tbody>\n",
       "    <tr>\n",
       "      <th>0</th>\n",
       "      <td>47314428.0</td>\n",
       "      <td>chile</td>\n",
       "      <td>suractual</td>\n",
       "      <td>https://www.suractual.cl/2022/01/24/ante-proye...</td>\n",
       "      <td>Ante proyecto Tierras Raras municipio y Unión ...</td>\n",
       "      <td>“Considerando la evolución que ha tenido el Pr...</td>\n",
       "      <td>2022-01-24</td>\n",
       "      <td>NaN</td>\n",
       "      <td>0</td>\n",
       "      <td>0</td>\n",
       "      <td>0</td>\n",
       "      <td>0</td>\n",
       "      <td>0</td>\n",
       "      <td>0</td>\n",
       "      <td>0</td>\n",
       "      <td>0</td>\n",
       "      <td>0</td>\n",
       "      <td>0</td>\n",
       "      <td>0</td>\n",
       "      <td>0</td>\n",
       "    </tr>\n",
       "    <tr>\n",
       "      <th>1</th>\n",
       "      <td>47719086.0</td>\n",
       "      <td>chile</td>\n",
       "      <td>noticiaslosrios</td>\n",
       "      <td>https://www.noticiaslosrios.cl/2022/01/25/trac...</td>\n",
       "      <td>Tractocamión volcó esta mañana en puente Lloll...</td>\n",
       "      <td>El accidente se produjo pasadas las 06:00 AM y...</td>\n",
       "      <td>2022-01-25</td>\n",
       "      <td>NaN</td>\n",
       "      <td>0</td>\n",
       "      <td>0</td>\n",
       "      <td>0</td>\n",
       "      <td>0</td>\n",
       "      <td>1</td>\n",
       "      <td>0</td>\n",
       "      <td>0</td>\n",
       "      <td>0</td>\n",
       "      <td>0</td>\n",
       "      <td>0</td>\n",
       "      <td>0</td>\n",
       "      <td>0</td>\n",
       "    </tr>\n",
       "    <tr>\n",
       "      <th>2</th>\n",
       "      <td>47719110.0</td>\n",
       "      <td>chile</td>\n",
       "      <td>noticiaslosrios</td>\n",
       "      <td>https://www.noticiaslosrios.cl/2022/01/27/gobe...</td>\n",
       "      <td>Gobernadores Regionales de Los Ríos y Los Lago...</td>\n",
       "      <td>La instancia buscó generar un trabajo colabora...</td>\n",
       "      <td>2022-01-27</td>\n",
       "      <td>NaN</td>\n",
       "      <td>0</td>\n",
       "      <td>1</td>\n",
       "      <td>0</td>\n",
       "      <td>1</td>\n",
       "      <td>0</td>\n",
       "      <td>0</td>\n",
       "      <td>0</td>\n",
       "      <td>0</td>\n",
       "      <td>0</td>\n",
       "      <td>0</td>\n",
       "      <td>0</td>\n",
       "      <td>0</td>\n",
       "    </tr>\n",
       "    <tr>\n",
       "      <th>3</th>\n",
       "      <td>47700339.0</td>\n",
       "      <td>chile</td>\n",
       "      <td>diariolaguino</td>\n",
       "      <td>https://www.diariolaguino.cl/noticia/actualida...</td>\n",
       "      <td>Alegan inocencia de acusadas por cruel asesina...</td>\n",
       "      <td>La defensa de las dos mujeres acusadas de enca...</td>\n",
       "      <td>2022-01-05</td>\n",
       "      <td>NaN</td>\n",
       "      <td>0</td>\n",
       "      <td>0</td>\n",
       "      <td>0</td>\n",
       "      <td>0</td>\n",
       "      <td>0</td>\n",
       "      <td>0</td>\n",
       "      <td>0</td>\n",
       "      <td>0</td>\n",
       "      <td>0</td>\n",
       "      <td>0</td>\n",
       "      <td>0</td>\n",
       "      <td>1</td>\n",
       "    </tr>\n",
       "    <tr>\n",
       "      <th>4</th>\n",
       "      <td>47700425.0</td>\n",
       "      <td>chile</td>\n",
       "      <td>diariolaguino</td>\n",
       "      <td>https://www.diariolaguino.cl/noticia/actualida...</td>\n",
       "      <td>Destacan ejecución del Programa Vínculos en Lo...</td>\n",
       "      <td>Para dar protección y acompañamiento a adultos...</td>\n",
       "      <td>2022-01-03</td>\n",
       "      <td>NaN</td>\n",
       "      <td>0</td>\n",
       "      <td>0</td>\n",
       "      <td>0</td>\n",
       "      <td>0</td>\n",
       "      <td>0</td>\n",
       "      <td>0</td>\n",
       "      <td>0</td>\n",
       "      <td>0</td>\n",
       "      <td>0</td>\n",
       "      <td>0</td>\n",
       "      <td>0</td>\n",
       "      <td>1</td>\n",
       "    </tr>\n",
       "  </tbody>\n",
       "</table>\n",
       "</div>"
      ],
      "text/plain": [
       "      id_news country     media_outlet  \\\n",
       "0  47314428.0   chile        suractual   \n",
       "1  47719086.0   chile  noticiaslosrios   \n",
       "2  47719110.0   chile  noticiaslosrios   \n",
       "3  47700339.0   chile    diariolaguino   \n",
       "4  47700425.0   chile    diariolaguino   \n",
       "\n",
       "                                                 url  \\\n",
       "0  https://www.suractual.cl/2022/01/24/ante-proye...   \n",
       "1  https://www.noticiaslosrios.cl/2022/01/25/trac...   \n",
       "2  https://www.noticiaslosrios.cl/2022/01/27/gobe...   \n",
       "3  https://www.diariolaguino.cl/noticia/actualida...   \n",
       "4  https://www.diariolaguino.cl/noticia/actualida...   \n",
       "\n",
       "                                               title  \\\n",
       "0  Ante proyecto Tierras Raras municipio y Unión ...   \n",
       "1  Tractocamión volcó esta mañana en puente Lloll...   \n",
       "2  Gobernadores Regionales de Los Ríos y Los Lago...   \n",
       "3  Alegan inocencia de acusadas por cruel asesina...   \n",
       "4  Destacan ejecución del Programa Vínculos en Lo...   \n",
       "\n",
       "                                                text        date  search  \\\n",
       "0  “Considerando la evolución que ha tenido el Pr...  2022-01-24     NaN   \n",
       "1  El accidente se produjo pasadas las 06:00 AM y...  2022-01-25     NaN   \n",
       "2  La instancia buscó generar un trabajo colabora...  2022-01-27     NaN   \n",
       "3  La defensa de las dos mujeres acusadas de enca...  2022-01-05     NaN   \n",
       "4  Para dar protección y acompañamiento a adultos...  2022-01-03     NaN   \n",
       "\n",
       "   Lago_Ranco  Los_Lagos  Futrono  Río_Bueno  La_Unión  Panguipulli  Paillaco  \\\n",
       "0           0          0        0          0         0            0         0   \n",
       "1           0          0        0          0         1            0         0   \n",
       "2           0          1        0          1         0            0         0   \n",
       "3           0          0        0          0         0            0         0   \n",
       "4           0          0        0          0         0            0         0   \n",
       "\n",
       "   Corral  Máfil  Lanco  Mariquina  Valdivia  \n",
       "0       0      0      0          0         0  \n",
       "1       0      0      0          0         0  \n",
       "2       0      0      0          0         0  \n",
       "3       0      0      0          0         1  \n",
       "4       0      0      0          0         1  "
      ]
     },
     "execution_count": 11,
     "metadata": {},
     "output_type": "execute_result"
    }
   ],
   "source": [
    "FILE = \"./noticias_losrios_2022_porcomuna.csv\"\n",
    "\n",
    "dataset = pd.read_csv(FILE)\n",
    "dataset.drop('Unnamed: 0', axis=1, inplace=True)\n",
    "dataset.head()"
   ]
  },
  {
   "cell_type": "markdown",
   "id": "207f450e",
   "metadata": {},
   "source": [
    "# 2. Procesar texto con el metodo nlp() de spacy"
   ]
  },
  {
   "cell_type": "code",
   "execution_count": 12,
   "id": "ba562947",
   "metadata": {},
   "outputs": [
    {
     "data": {
      "text/plain": [
       "'Destacan ejecución del Programa Vínculos en Los Ríos durante el 2021 - Diario Laguino'"
      ]
     },
     "execution_count": 12,
     "metadata": {},
     "output_type": "execute_result"
    }
   ],
   "source": [
    "text=dataset[\"title\"][4]\n",
    "text"
   ]
  },
  {
   "cell_type": "code",
   "execution_count": 13,
   "id": "b9ffb5b0",
   "metadata": {},
   "outputs": [],
   "source": [
    "doc = nlp(text)"
   ]
  },
  {
   "cell_type": "code",
   "execution_count": 14,
   "id": "fdc9491a",
   "metadata": {},
   "outputs": [
    {
     "name": "stdout",
     "output_type": "stream",
     "text": [
      "Destacan destacar False VERB\n",
      "ejecución ejecución False NOUN\n",
      "del del True ADP\n",
      "Programa Programa False PROPN\n",
      "Vínculos Vínculos False PROPN\n",
      "en en True ADP\n",
      "Los el True DET\n",
      "Ríos Ríos False PROPN\n",
      "durante durante True ADP\n",
      "el el True DET\n",
      "2021 2021 False NOUN\n",
      "- - False PUNCT\n",
      "Diario Diario False PROPN\n",
      "Laguino Laguino False PROPN\n"
     ]
    }
   ],
   "source": [
    "for token in doc:\n",
    "    print(token.text, token.lemma_,token.is_stop,token.pos_)"
   ]
  },
  {
   "cell_type": "code",
   "execution_count": 34,
   "id": "99132680",
   "metadata": {},
   "outputs": [
    {
     "data": {
      "text/plain": [
       "'En la Delegación Presidencial de Los Ríos, se realizó el balance de controles y fiscalizaciones de este fin de semana en el que celebró la fiesta de Año Nuevo. Al respecto, el Delegado Presidencial de Los Ríos, César Asenjo, destacó el trabajo de Carabineros por su despliegue, el que estuvo marcado por gran cantidad de controles vehiculares y apoyo al trabajo que realizó Senda en el territorio. Respecto a esto último, el delegado precisó que “se realizaron tres operativos Tolerancia Cero, en el que se hizo 296 controles alcohotest y 17 controles narcotest, de los cuales se detuvo a 8 personas, 5 de ellos por conducir bajo la influencia del alcohol y a 3 por conducir un vehículo motorizado en estado de ebriedad”. Asenjo agregó que “insistimos en la importancia de no conducir bajo los efectos de ninguna sustancia, ya sea alcohol o drogas. Durante este fin de semana, se registró 7 accidentes de tránsito en la que existió consumo de alcohol en alguno de sus conductores y además un aumento de estos siniestros, por lo que hacemos un llamado a que en esta temporada estival que estamos comenzando, no pongamos en riesgo la vida de nuestras familias y la de otros por una irresponsabilidad que podemos evitar”. Respecto a la labor realizada por el personal de Carabineros, el jefe de zona de Los Ríos, general Alex Muñoz, precisó que Carabineros registró 23 accidentes de tránsito en el territorio; realizó 104 alcohotest y 1162 controles vehiculares, no registrando víctimas fatales en esta festividad. Muñoz concluyó “vemos que en los accidentes de tránsito ocurridos el fin de semana, existe una gran responsabilidad de los conductores, por lo que Carabineros de Chile llama a conducir a la defensiva, sin consumo de alcohol, y en condiciones óptimas, ya que las consecuencias de una mala decisión, provocan accidentes que pueden involucrar a muchas más personas” finalizó el jefe policial. Revisa más detalles sobre este balance en la siguiente transmisión:'"
      ]
     },
     "execution_count": 34,
     "metadata": {},
     "output_type": "execute_result"
    }
   ],
   "source": [
    "text=dataset[\"text\"][6]\n",
    "text"
   ]
  },
  {
   "cell_type": "code",
   "execution_count": 35,
   "id": "7dea28b2",
   "metadata": {},
   "outputs": [
    {
     "name": "stdout",
     "output_type": "stream",
     "text": [
      "Delegación Presidencial de Los Ríos 6 41 ORG\n",
      "Año Nuevo 149 158 MISC\n",
      "Delegado Presidencial de Los Ríos 176 209 MISC\n",
      "César Asenjo 211 223 PER\n",
      "Carabineros 247 258 ORG\n",
      "Senda en el territorio 374 396 MISC\n",
      "Respecto 398 406 LOC\n",
      "Tolerancia Cero 477 492 MISC\n",
      "Asenjo 722 728 PER\n",
      "Carabineros 1268 1279 ORG\n",
      "Los Ríos 1300 1308 LOC\n",
      "Alex Muñoz 1318 1328 PER\n",
      "Carabineros 1342 1353 ORG\n",
      "Muñoz 1512 1517 PER\n",
      "Carabineros de Chile 1659 1679 ORG\n",
      "Revisa 1902 1908 MISC\n"
     ]
    }
   ],
   "source": [
    "doc = nlp(text)\n",
    "for ent in doc.ents:\n",
    "    print(ent.text, ent.start_char, ent.end_char, ent.label_)"
   ]
  },
  {
   "cell_type": "code",
   "execution_count": 56,
   "id": "58e18d10",
   "metadata": {},
   "outputs": [
    {
     "data": {
      "text/plain": [
       "En la Delegación Presidencial de Los Ríos, se realizó el balance de controles y fiscalizaciones de este fin de semana en el que celebró la fiesta de Año Nuevo."
      ]
     },
     "execution_count": 56,
     "metadata": {},
     "output_type": "execute_result"
    }
   ],
   "source": [
    "list_sentences=[]\n",
    "for sentence in doc.sents:\n",
    "    list_sentences.append(sentence)\n",
    "    \n",
    "list_sentences[0]"
   ]
  },
  {
   "cell_type": "markdown",
   "id": "25c3a1fe",
   "metadata": {},
   "source": [
    "# 3. Extraer personas"
   ]
  },
  {
   "cell_type": "code",
   "execution_count": 36,
   "id": "8ddb31c3",
   "metadata": {},
   "outputs": [
    {
     "name": "stdout",
     "output_type": "stream",
     "text": [
      "César Asenjo 211 223 PER\n",
      "Alex Muñoz 1318 1328 PER\n"
     ]
    }
   ],
   "source": [
    "for ent in doc.ents:\n",
    "    if(ent.label_ == \"PER\"):\n",
    "        if (\" \" in ent.text):\n",
    "            print(ent.text, ent.start_char, ent.end_char, ent.label_)"
   ]
  },
  {
   "cell_type": "markdown",
   "id": "793a1046",
   "metadata": {},
   "source": [
    "# 4. Extraer palabras claves"
   ]
  },
  {
   "cell_type": "code",
   "execution_count": 37,
   "id": "d008625e",
   "metadata": {},
   "outputs": [
    {
     "name": "stdout",
     "output_type": "stream",
     "text": [
      "balance\n",
      "controles\n",
      "fiscalizaciones\n",
      "fin\n",
      "semana\n",
      "fiesta\n",
      "respecto\n",
      "trabajo\n",
      "despliegue\n",
      "cantidad\n",
      "controles\n",
      "apoyo\n",
      "trabajo\n",
      "territorio\n",
      "Respecto\n",
      "delegado\n",
      "operativos\n",
      "controles\n",
      "controles\n",
      "personas\n",
      "influencia\n",
      "alcohol\n",
      "vehículo\n",
      "estado\n",
      "ebriedad\n",
      "importancia\n",
      "efectos\n",
      "sustancia\n",
      "alcohol\n",
      "drogas\n",
      "fin\n",
      "semana\n",
      "accidentes\n",
      "tránsito\n",
      "consumo\n",
      "alcohol\n",
      "conductores\n",
      "aumento\n",
      "siniestros\n",
      "temporada\n",
      "riesgo\n",
      "vida\n",
      "familias\n",
      "irresponsabilidad\n",
      "Respecto\n",
      "labor\n",
      "personal\n",
      "jefe\n",
      "zona\n",
      "general\n",
      "accidentes\n",
      "tránsito\n",
      "territorio\n",
      "alcohotest\n",
      "controles\n",
      "víctimas\n",
      "festividad\n",
      "accidentes\n",
      "tránsito\n",
      "fin\n",
      "semana\n",
      "responsabilidad\n",
      "conductores\n",
      "consumo\n",
      "alcohol\n",
      "condiciones\n",
      "consecuencias\n",
      "decisión\n",
      "accidentes\n",
      "personas\n",
      "jefe\n",
      "Revisa\n",
      "detalles\n",
      "balance\n",
      "transmisión\n"
     ]
    }
   ],
   "source": [
    "for token in doc:\n",
    "    if(token.pos_==\"NOUN\"):\n",
    "        print(token)"
   ]
  },
  {
   "cell_type": "code",
   "execution_count": 38,
   "id": "7c861321",
   "metadata": {},
   "outputs": [],
   "source": [
    "matcher = Matcher(nlp.vocab)"
   ]
  },
  {
   "cell_type": "code",
   "execution_count": 39,
   "id": "aacebf34",
   "metadata": {},
   "outputs": [],
   "source": [
    "# pattern: NOUN-de-NOUN\n",
    "pattern_1 = [{\"POS\": \"NOUN\"},{\"LOWER\": \"de\"}, {\"POS\": \"NOUN\"}]\n",
    "matcher.add(\"NOUN-de-NOUN\", [pattern_1])\n",
    "\n",
    "# pattern: NOUN-ADJ\n",
    "pattern_2 = [{\"POS\": \"NOUN\"}, {\"POS\": \"ADJ\"}]\n",
    "matcher.add(\"NOUN-ADJ\", [pattern_2])"
   ]
  },
  {
   "cell_type": "code",
   "execution_count": 40,
   "id": "97e76a6f",
   "metadata": {},
   "outputs": [
    {
     "name": "stdout",
     "output_type": "stream",
     "text": [
      "balance de controles\n",
      "fin de semana\n",
      "cantidad de controles\n",
      "controles vehiculares\n",
      "controles narcotest\n",
      "vehículo motorizado\n",
      "estado de ebriedad\n",
      "fin de semana\n",
      "accidentes de tránsito\n",
      "consumo de alcohol\n",
      "temporada estival\n",
      "labor realizada\n",
      "jefe de zona\n",
      "accidentes de tránsito\n",
      "controles vehiculares\n",
      "víctimas fatales\n",
      "accidentes de tránsito\n",
      "tránsito ocurridos\n",
      "fin de semana\n",
      "consumo de alcohol\n",
      "condiciones óptimas\n",
      "jefe policial\n"
     ]
    }
   ],
   "source": [
    "matches = matcher(doc)\n",
    "\n",
    "for match_id, start, end in matches:\n",
    "    span = doc[start:end]\n",
    "    print(span.text.lower())"
   ]
  },
  {
   "cell_type": "markdown",
   "id": "fbb5a4da",
   "metadata": {},
   "source": [
    "# 5. Contar y ordenar por frecuencia"
   ]
  },
  {
   "cell_type": "code",
   "execution_count": 50,
   "id": "1ce3cafa",
   "metadata": {},
   "outputs": [],
   "source": [
    "def count(list_elements):\n",
    "    # Contar la frecuencia de cada elemento\n",
    "    frecuencias = Counter(list_elements)\n",
    "\n",
    "    # Ordenar las frecuencias de forma descendente\n",
    "    frecuencias_ordenadas = frecuencias.most_common()\n",
    "\n",
    "    # Imprimir las frecuencias ordenadas\n",
    "    for string, frecuencia in frecuencias_ordenadas:\n",
    "        print(f\"{string}: {frecuencia}\")"
   ]
  },
  {
   "cell_type": "code",
   "execution_count": 51,
   "id": "7ede50b3",
   "metadata": {},
   "outputs": [
    {
     "name": "stdout",
     "output_type": "stream",
     "text": [
      "controles: 5\n",
      "alcohol: 4\n",
      "accidentes: 4\n",
      "fin: 3\n",
      "semana: 3\n",
      "respecto: 3\n",
      "tránsito: 3\n",
      "balance: 2\n",
      "trabajo: 2\n",
      "territorio: 2\n",
      "personas: 2\n",
      "consumo: 2\n",
      "conductores: 2\n",
      "jefe: 2\n",
      "fiscalizaciones: 1\n",
      "fiesta: 1\n",
      "despliegue: 1\n",
      "cantidad: 1\n",
      "apoyo: 1\n",
      "delegado: 1\n",
      "operativos: 1\n",
      "influencia: 1\n",
      "vehículo: 1\n",
      "estado: 1\n",
      "ebriedad: 1\n",
      "importancia: 1\n",
      "efectos: 1\n",
      "sustancia: 1\n",
      "drogas: 1\n",
      "aumento: 1\n",
      "siniestros: 1\n",
      "temporada: 1\n",
      "riesgo: 1\n",
      "vida: 1\n",
      "familias: 1\n",
      "irresponsabilidad: 1\n",
      "labor: 1\n",
      "personal: 1\n",
      "zona: 1\n",
      "general: 1\n",
      "alcohotest: 1\n",
      "víctimas: 1\n",
      "festividad: 1\n",
      "responsabilidad: 1\n",
      "condiciones: 1\n",
      "consecuencias: 1\n",
      "decisión: 1\n",
      "revisa: 1\n",
      "detalles: 1\n",
      "transmisión: 1\n"
     ]
    }
   ],
   "source": [
    "list_elements=[]\n",
    "\n",
    "for token in doc:\n",
    "    if(token.pos_==\"NOUN\"):\n",
    "        list_elements.append(token.text.lower())\n",
    "        \n",
    "count(list_elements)"
   ]
  },
  {
   "cell_type": "code",
   "execution_count": 53,
   "id": "2f01743a",
   "metadata": {},
   "outputs": [
    {
     "name": "stdout",
     "output_type": "stream",
     "text": [
      "fin de semana: 3\n",
      "accidentes de tránsito: 3\n",
      "controles vehiculares: 2\n",
      "consumo de alcohol: 2\n",
      "balance de controles: 1\n",
      "cantidad de controles: 1\n",
      "controles narcotest: 1\n",
      "vehículo motorizado: 1\n",
      "estado de ebriedad: 1\n",
      "temporada estival: 1\n",
      "labor realizada: 1\n",
      "jefe de zona: 1\n",
      "víctimas fatales: 1\n",
      "tránsito ocurridos: 1\n",
      "condiciones óptimas: 1\n",
      "jefe policial: 1\n"
     ]
    }
   ],
   "source": [
    "list_elements=[]\n",
    "\n",
    "matches = matcher(doc)\n",
    "\n",
    "for match_id, start, end in matches:\n",
    "    span = doc[start:end]\n",
    "    list_elements.append(span.text.lower())\n",
    "    \n",
    "count(list_elements)"
   ]
  }
 ],
 "metadata": {
  "kernelspec": {
   "display_name": "Python 3 (ipykernel)",
   "language": "python",
   "name": "python3"
  },
  "language_info": {
   "codemirror_mode": {
    "name": "ipython",
    "version": 3
   },
   "file_extension": ".py",
   "mimetype": "text/x-python",
   "name": "python",
   "nbconvert_exporter": "python",
   "pygments_lexer": "ipython3",
   "version": "3.8.10"
  }
 },
 "nbformat": 4,
 "nbformat_minor": 5
}
