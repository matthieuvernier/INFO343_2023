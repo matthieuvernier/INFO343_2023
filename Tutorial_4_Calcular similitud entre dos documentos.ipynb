{
 "cells": [
  {
   "cell_type": "markdown",
   "id": "03a1b389",
   "metadata": {},
   "source": [
    "# Calcular la similitud entre dos documentos"
   ]
  },
  {
   "cell_type": "code",
   "execution_count": 1,
   "id": "909cd9af",
   "metadata": {},
   "outputs": [],
   "source": [
    "import pandas as pd\n",
    "import spacy\n",
    "nlp = spacy.load(\"es_core_news_md\")"
   ]
  },
  {
   "cell_type": "code",
   "execution_count": 2,
   "id": "f5091039",
   "metadata": {},
   "outputs": [
    {
     "data": {
      "text/html": [
       "<div>\n",
       "<style scoped>\n",
       "    .dataframe tbody tr th:only-of-type {\n",
       "        vertical-align: middle;\n",
       "    }\n",
       "\n",
       "    .dataframe tbody tr th {\n",
       "        vertical-align: top;\n",
       "    }\n",
       "\n",
       "    .dataframe thead th {\n",
       "        text-align: right;\n",
       "    }\n",
       "</style>\n",
       "<table border=\"1\" class=\"dataframe\">\n",
       "  <thead>\n",
       "    <tr style=\"text-align: right;\">\n",
       "      <th></th>\n",
       "      <th>id_news</th>\n",
       "      <th>country</th>\n",
       "      <th>media_outlet</th>\n",
       "      <th>url</th>\n",
       "      <th>title</th>\n",
       "      <th>text</th>\n",
       "      <th>date</th>\n",
       "      <th>search</th>\n",
       "      <th>Lago_Ranco</th>\n",
       "      <th>Los_Lagos</th>\n",
       "      <th>Futrono</th>\n",
       "      <th>Río_Bueno</th>\n",
       "      <th>La_Unión</th>\n",
       "      <th>Panguipulli</th>\n",
       "      <th>Paillaco</th>\n",
       "      <th>Corral</th>\n",
       "      <th>Máfil</th>\n",
       "      <th>Lanco</th>\n",
       "      <th>Mariquina</th>\n",
       "      <th>Valdivia</th>\n",
       "    </tr>\n",
       "  </thead>\n",
       "  <tbody>\n",
       "    <tr>\n",
       "      <th>0</th>\n",
       "      <td>47314428.0</td>\n",
       "      <td>chile</td>\n",
       "      <td>suractual</td>\n",
       "      <td>https://www.suractual.cl/2022/01/24/ante-proye...</td>\n",
       "      <td>Ante proyecto Tierras Raras municipio y Unión ...</td>\n",
       "      <td>“Considerando la evolución que ha tenido el Pr...</td>\n",
       "      <td>2022-01-24</td>\n",
       "      <td>NaN</td>\n",
       "      <td>0</td>\n",
       "      <td>0</td>\n",
       "      <td>0</td>\n",
       "      <td>0</td>\n",
       "      <td>0</td>\n",
       "      <td>0</td>\n",
       "      <td>0</td>\n",
       "      <td>0</td>\n",
       "      <td>0</td>\n",
       "      <td>0</td>\n",
       "      <td>0</td>\n",
       "      <td>0</td>\n",
       "    </tr>\n",
       "    <tr>\n",
       "      <th>1</th>\n",
       "      <td>47719086.0</td>\n",
       "      <td>chile</td>\n",
       "      <td>noticiaslosrios</td>\n",
       "      <td>https://www.noticiaslosrios.cl/2022/01/25/trac...</td>\n",
       "      <td>Tractocamión volcó esta mañana en puente Lloll...</td>\n",
       "      <td>El accidente se produjo pasadas las 06:00 AM y...</td>\n",
       "      <td>2022-01-25</td>\n",
       "      <td>NaN</td>\n",
       "      <td>0</td>\n",
       "      <td>0</td>\n",
       "      <td>0</td>\n",
       "      <td>0</td>\n",
       "      <td>1</td>\n",
       "      <td>0</td>\n",
       "      <td>0</td>\n",
       "      <td>0</td>\n",
       "      <td>0</td>\n",
       "      <td>0</td>\n",
       "      <td>0</td>\n",
       "      <td>0</td>\n",
       "    </tr>\n",
       "    <tr>\n",
       "      <th>2</th>\n",
       "      <td>47719110.0</td>\n",
       "      <td>chile</td>\n",
       "      <td>noticiaslosrios</td>\n",
       "      <td>https://www.noticiaslosrios.cl/2022/01/27/gobe...</td>\n",
       "      <td>Gobernadores Regionales de Los Ríos y Los Lago...</td>\n",
       "      <td>La instancia buscó generar un trabajo colabora...</td>\n",
       "      <td>2022-01-27</td>\n",
       "      <td>NaN</td>\n",
       "      <td>0</td>\n",
       "      <td>1</td>\n",
       "      <td>0</td>\n",
       "      <td>1</td>\n",
       "      <td>0</td>\n",
       "      <td>0</td>\n",
       "      <td>0</td>\n",
       "      <td>0</td>\n",
       "      <td>0</td>\n",
       "      <td>0</td>\n",
       "      <td>0</td>\n",
       "      <td>0</td>\n",
       "    </tr>\n",
       "    <tr>\n",
       "      <th>3</th>\n",
       "      <td>47700339.0</td>\n",
       "      <td>chile</td>\n",
       "      <td>diariolaguino</td>\n",
       "      <td>https://www.diariolaguino.cl/noticia/actualida...</td>\n",
       "      <td>Alegan inocencia de acusadas por cruel asesina...</td>\n",
       "      <td>La defensa de las dos mujeres acusadas de enca...</td>\n",
       "      <td>2022-01-05</td>\n",
       "      <td>NaN</td>\n",
       "      <td>0</td>\n",
       "      <td>0</td>\n",
       "      <td>0</td>\n",
       "      <td>0</td>\n",
       "      <td>0</td>\n",
       "      <td>0</td>\n",
       "      <td>0</td>\n",
       "      <td>0</td>\n",
       "      <td>0</td>\n",
       "      <td>0</td>\n",
       "      <td>0</td>\n",
       "      <td>1</td>\n",
       "    </tr>\n",
       "    <tr>\n",
       "      <th>4</th>\n",
       "      <td>47700425.0</td>\n",
       "      <td>chile</td>\n",
       "      <td>diariolaguino</td>\n",
       "      <td>https://www.diariolaguino.cl/noticia/actualida...</td>\n",
       "      <td>Destacan ejecución del Programa Vínculos en Lo...</td>\n",
       "      <td>Para dar protección y acompañamiento a adultos...</td>\n",
       "      <td>2022-01-03</td>\n",
       "      <td>NaN</td>\n",
       "      <td>0</td>\n",
       "      <td>0</td>\n",
       "      <td>0</td>\n",
       "      <td>0</td>\n",
       "      <td>0</td>\n",
       "      <td>0</td>\n",
       "      <td>0</td>\n",
       "      <td>0</td>\n",
       "      <td>0</td>\n",
       "      <td>0</td>\n",
       "      <td>0</td>\n",
       "      <td>1</td>\n",
       "    </tr>\n",
       "  </tbody>\n",
       "</table>\n",
       "</div>"
      ],
      "text/plain": [
       "      id_news country     media_outlet  \\\n",
       "0  47314428.0   chile        suractual   \n",
       "1  47719086.0   chile  noticiaslosrios   \n",
       "2  47719110.0   chile  noticiaslosrios   \n",
       "3  47700339.0   chile    diariolaguino   \n",
       "4  47700425.0   chile    diariolaguino   \n",
       "\n",
       "                                                 url  \\\n",
       "0  https://www.suractual.cl/2022/01/24/ante-proye...   \n",
       "1  https://www.noticiaslosrios.cl/2022/01/25/trac...   \n",
       "2  https://www.noticiaslosrios.cl/2022/01/27/gobe...   \n",
       "3  https://www.diariolaguino.cl/noticia/actualida...   \n",
       "4  https://www.diariolaguino.cl/noticia/actualida...   \n",
       "\n",
       "                                               title  \\\n",
       "0  Ante proyecto Tierras Raras municipio y Unión ...   \n",
       "1  Tractocamión volcó esta mañana en puente Lloll...   \n",
       "2  Gobernadores Regionales de Los Ríos y Los Lago...   \n",
       "3  Alegan inocencia de acusadas por cruel asesina...   \n",
       "4  Destacan ejecución del Programa Vínculos en Lo...   \n",
       "\n",
       "                                                text        date  search  \\\n",
       "0  “Considerando la evolución que ha tenido el Pr...  2022-01-24     NaN   \n",
       "1  El accidente se produjo pasadas las 06:00 AM y...  2022-01-25     NaN   \n",
       "2  La instancia buscó generar un trabajo colabora...  2022-01-27     NaN   \n",
       "3  La defensa de las dos mujeres acusadas de enca...  2022-01-05     NaN   \n",
       "4  Para dar protección y acompañamiento a adultos...  2022-01-03     NaN   \n",
       "\n",
       "   Lago_Ranco  Los_Lagos  Futrono  Río_Bueno  La_Unión  Panguipulli  Paillaco  \\\n",
       "0           0          0        0          0         0            0         0   \n",
       "1           0          0        0          0         1            0         0   \n",
       "2           0          1        0          1         0            0         0   \n",
       "3           0          0        0          0         0            0         0   \n",
       "4           0          0        0          0         0            0         0   \n",
       "\n",
       "   Corral  Máfil  Lanco  Mariquina  Valdivia  \n",
       "0       0      0      0          0         0  \n",
       "1       0      0      0          0         0  \n",
       "2       0      0      0          0         0  \n",
       "3       0      0      0          0         1  \n",
       "4       0      0      0          0         1  "
      ]
     },
     "execution_count": 2,
     "metadata": {},
     "output_type": "execute_result"
    }
   ],
   "source": [
    "FILE = \"./noticias_losrios_2022_porcomuna.csv\"\n",
    "\n",
    "dataset = pd.read_csv(FILE)\n",
    "dataset.drop('Unnamed: 0', axis=1, inplace=True)\n",
    "dataset.head()"
   ]
  },
  {
   "cell_type": "markdown",
   "id": "e19cd8dc",
   "metadata": {},
   "source": [
    "# 1. Ejemplos básicos"
   ]
  },
  {
   "cell_type": "code",
   "execution_count": 18,
   "id": "f98c0503",
   "metadata": {},
   "outputs": [
    {
     "name": "stdout",
     "output_type": "stream",
     "text": [
      "0.7914251083854693\n",
      "-0.10723928892679396\n"
     ]
    }
   ],
   "source": [
    "#Comparar dos documentos\n",
    "doc1=nlp(\"Me gusta las pizzas\")\n",
    "doc2=nlp(\"No me gusta las papas fritas\")\n",
    "doc3=nlp(\"Camino en la calle\") #\"y veo un restaurante\"\n",
    "print(doc1.similarity(doc2))\n",
    "print(doc1.similarity(doc3))"
   ]
  },
  {
   "cell_type": "code",
   "execution_count": 23,
   "id": "1db1090b",
   "metadata": {},
   "outputs": [
    {
     "name": "stdout",
     "output_type": "stream",
     "text": [
      "0.5543570518493652\n",
      "0.11962870508432388\n",
      "0.4203372597694397\n"
     ]
    }
   ],
   "source": [
    "#Comparar dos palabras\n",
    "token1=doc1[3] #\"pizzas\"\n",
    "token2=doc2[5] #\"fritas\"\n",
    "token3=doc3[3] #\"calle\"\n",
    "span=doc2[4:5] #\"papas fritas\"\n",
    "print(token1.similarity(token2))\n",
    "print(token1.similarity(token3))\n",
    "print(token1.similarity(span))"
   ]
  },
  {
   "cell_type": "markdown",
   "id": "b9c0ba9c",
   "metadata": {},
   "source": [
    "Spacy calcula la similaridad a partir del coseno de dos vectores.\n",
    "\n",
    "ver: https://www.mdpi.com/2078-2489/11/9/421\n",
    "Measurement of Text Similarity: A Survey"
   ]
  },
  {
   "cell_type": "code",
   "execution_count": 24,
   "id": "98989e49",
   "metadata": {},
   "outputs": [
    {
     "data": {
      "text/plain": [
       "array([-1.6687e+00,  2.2584e+00, -1.5861e+00,  3.5546e+00, -1.7631e+00,\n",
       "       -1.9866e+00,  7.3390e-01, -9.7554e-01,  2.7772e+00,  2.9498e+00,\n",
       "       -2.1257e+00, -4.9950e-01,  2.1201e-01, -9.7353e-01,  1.7610e+00,\n",
       "        8.7590e-01, -7.6312e-01, -5.3835e-01,  2.7415e-01, -1.7410e+00,\n",
       "        5.3598e-01,  1.7648e+00,  3.1090e+00, -1.3115e+00,  3.1393e+00,\n",
       "        4.4092e-01, -9.2814e-02,  1.2336e+00,  2.7553e+00,  1.2624e+00,\n",
       "       -1.9421e+00,  1.9712e+00,  1.7605e+00, -1.3033e+00, -4.9049e-01,\n",
       "        1.4591e+00,  8.9369e-01, -3.4896e+00,  2.2164e+00, -3.0563e-01,\n",
       "        2.1898e+00, -8.5377e-01, -6.4209e-01, -4.1533e+00,  6.8390e-01,\n",
       "        5.2069e-01,  1.2568e+00,  1.5338e+00, -9.0375e-01, -1.6158e+00,\n",
       "       -3.0691e-01, -1.1853e+00, -1.1590e+00,  2.4608e+00,  1.7520e+00,\n",
       "        3.6997e-04, -1.5574e+00,  1.5607e+00, -5.4840e-01,  4.6515e-01,\n",
       "        3.1868e+00,  1.8978e+00,  1.9312e+00, -1.1970e+00, -2.6397e+00,\n",
       "        5.7083e-01,  2.9909e+00, -1.5661e-01,  4.6024e-01,  2.4422e+00,\n",
       "       -8.0631e-01,  7.9269e-01,  1.0153e+00, -4.6419e-01,  7.7199e-01,\n",
       "       -3.3467e+00, -9.0826e-01, -4.9017e-01,  1.2240e+00, -2.4565e+00,\n",
       "        2.5017e+00, -1.3751e+00,  2.6310e+00, -2.4659e+00, -3.5780e+00,\n",
       "        1.7555e+00, -1.3536e+00,  1.3299e+00, -1.1240e+00,  6.6174e-01,\n",
       "        1.4848e+00, -5.3393e-02,  1.3444e+00, -8.2200e-01,  9.5033e-01,\n",
       "        3.8882e-01, -9.7346e-01, -8.4145e-01, -9.7360e-02, -1.1555e-01,\n",
       "       -2.4785e+00, -4.1473e-01,  5.4678e-01,  1.5517e+00, -7.5718e-02,\n",
       "        7.3081e-01, -2.8428e+00,  1.0600e+00,  7.4702e-01, -1.8867e-01,\n",
       "        1.4103e+00, -9.3638e-01,  1.3523e+00, -3.7485e+00,  3.7457e+00,\n",
       "       -1.1467e+00, -2.3204e+00, -2.6677e-02, -8.9620e-01, -3.5951e-01,\n",
       "       -1.1761e-01, -8.8033e-02, -2.0340e-01,  8.4313e-01, -5.0552e-01,\n",
       "        1.4774e+00,  1.3439e+00, -1.6989e+00,  3.6747e-02, -7.3069e-02,\n",
       "       -3.7523e-02,  2.1543e+00,  1.0038e-01,  9.5488e-01, -1.3043e+00,\n",
       "        1.7482e+00, -2.3384e+00,  2.6174e+00, -1.5760e+00,  2.4007e-01,\n",
       "        1.4103e+00, -2.1746e-01,  8.2344e-01,  1.5446e-01,  1.1805e+00,\n",
       "        1.0626e+00, -2.7271e+00,  4.5948e-01, -2.2874e+00,  2.0123e+00,\n",
       "        7.4736e-01,  4.1255e-01,  1.3429e+00, -1.4957e+00, -1.8692e-01,\n",
       "        1.3077e+00, -8.0464e-01, -8.7941e-01, -5.9909e-01,  3.2308e-01,\n",
       "       -9.9967e-01,  4.1934e-01, -2.3656e-01,  1.1278e+00,  8.2973e-02,\n",
       "        1.8255e+00,  3.1079e-01,  1.7497e+00, -6.2307e-01, -7.8969e-01,\n",
       "       -1.4575e+00,  1.3657e+00, -4.6557e-01, -2.8599e+00, -1.0323e+00,\n",
       "        1.5263e+00, -2.8763e+00, -2.0585e-01,  1.6575e+00,  3.0758e-01,\n",
       "        2.1311e-01,  1.7544e+00, -6.6192e-01,  2.1812e+00,  1.4236e+00,\n",
       "       -2.8267e-01, -3.6849e-01, -3.6315e-02, -4.1369e-01,  2.7843e+00,\n",
       "        1.3874e+00, -1.5674e+00, -1.0033e+00, -1.8350e+00, -1.0107e+00,\n",
       "        7.3001e-01, -5.2862e-01,  1.9235e+00, -7.9857e-01,  1.0868e+00,\n",
       "       -5.4649e-01, -1.7539e+00, -1.8366e+00,  1.1950e+00,  2.3344e+00,\n",
       "       -9.6151e-01, -1.9870e+00,  3.0922e-01, -4.9183e-01, -1.5843e+00,\n",
       "        1.3337e+00,  4.6600e-01,  1.1064e+00, -2.6979e+00,  2.0311e-01,\n",
       "       -4.4736e-02,  1.3834e+00,  5.5102e-01,  1.6418e+00,  1.0390e+00,\n",
       "        6.3663e-01, -1.2581e+00, -2.6958e+00,  2.2287e+00,  1.0219e+00,\n",
       "       -1.0207e+00,  4.8447e+00, -1.7106e+00,  3.8453e-01, -1.3705e+00,\n",
       "        1.1057e+00, -4.8099e+00, -5.9971e-01,  7.3515e-01, -7.0751e-01,\n",
       "        6.6310e-01,  5.1695e-02, -1.1250e+00, -1.9317e+00,  2.8054e+00,\n",
       "        9.8641e-01,  1.9682e-01,  1.1843e+00,  3.0076e-01, -2.1625e-01,\n",
       "        4.2209e-01,  2.2232e+00, -7.0323e-01,  1.6485e+00, -1.3758e-01,\n",
       "       -1.7170e+00,  6.5943e-01,  1.5308e+00,  9.6878e-01,  3.3035e+00,\n",
       "       -6.1144e-01, -1.3891e+00, -2.7136e+00, -3.5143e-02,  2.6346e+00,\n",
       "       -2.0032e-02, -7.1071e-01,  1.1780e+00, -3.0509e+00, -9.0904e-01,\n",
       "        2.1556e+00, -2.7531e+00, -1.2010e+00,  7.1803e-01, -4.1740e-01,\n",
       "        8.9740e-01, -1.3438e+00, -1.1537e+00,  9.7236e-01, -1.5031e+00,\n",
       "       -1.1502e+00, -6.6384e-01, -6.0163e-01,  3.1590e+00,  1.6797e+00,\n",
       "        3.2054e+00, -1.9793e+00, -4.2398e+00,  1.0318e+00, -7.4929e-01,\n",
       "        1.1946e+00,  4.6966e-01,  6.3914e-01,  1.3943e+00,  3.0431e-01,\n",
       "        5.9581e-02, -3.0851e-01,  3.7594e+00,  9.3334e-03, -1.5203e+00,\n",
       "       -7.8473e-01,  1.4192e-01, -9.5721e-01, -2.3594e-01,  9.6225e-01],\n",
       "      dtype=float32)"
      ]
     },
     "execution_count": 24,
     "metadata": {},
     "output_type": "execute_result"
    }
   ],
   "source": [
    "doc1[3].vector"
   ]
  },
  {
   "cell_type": "markdown",
   "id": "4241aae6",
   "metadata": {},
   "source": [
    "# 2. Ejemplos con noticias de prensa"
   ]
  },
  {
   "cell_type": "code",
   "execution_count": 32,
   "id": "4b510761",
   "metadata": {},
   "outputs": [
    {
     "data": {
      "text/plain": [
       "'Los Ríos: fin de semana de año nuevo dejó 23 accidentes de tránsito  - Diario Laguino'"
      ]
     },
     "execution_count": 32,
     "metadata": {},
     "output_type": "execute_result"
    }
   ],
   "source": [
    "text1=dataset[\"title\"][6]\n",
    "text1"
   ]
  },
  {
   "cell_type": "code",
   "execution_count": 63,
   "id": "0084cb89",
   "metadata": {},
   "outputs": [
    {
     "data": {
      "text/plain": [
       "'Profesor José Maza visita Valdivia y dictará charla gratuita sobre su último libro - Diario de Valdivia'"
      ]
     },
     "execution_count": 63,
     "metadata": {},
     "output_type": "execute_result"
    }
   ],
   "source": [
    "text2=dataset[\"title\"][89]\n",
    "text2"
   ]
  },
  {
   "cell_type": "code",
   "execution_count": 64,
   "id": "ef27b356",
   "metadata": {},
   "outputs": [
    {
     "data": {
      "text/plain": [
       "'Una lesionado dejó accidente vehicular en Los Lagos - Diario Laguino'"
      ]
     },
     "execution_count": 64,
     "metadata": {},
     "output_type": "execute_result"
    }
   ],
   "source": [
    "text3=dataset[\"title\"][68]\n",
    "text3"
   ]
  },
  {
   "cell_type": "code",
   "execution_count": 65,
   "id": "841e01eb",
   "metadata": {},
   "outputs": [],
   "source": [
    "# Procesamiento de las noticias\n",
    "doc1 = nlp(text1)\n",
    "doc2 = nlp(text2)\n",
    "doc3 = nlp(text3)"
   ]
  },
  {
   "cell_type": "code",
   "execution_count": 66,
   "id": "717eb675",
   "metadata": {},
   "outputs": [
    {
     "name": "stdout",
     "output_type": "stream",
     "text": [
      "Similitud entre las noticias 1 y 2: 0.590921662744982\n"
     ]
    }
   ],
   "source": [
    "# Cálculo de la similitud entre las noticias\n",
    "similitud = doc1.similarity(doc2)\n",
    "\n",
    "print(f\"Similitud entre las noticias 1 y 2: {similitud}\")"
   ]
  },
  {
   "cell_type": "code",
   "execution_count": 67,
   "id": "e491fff8",
   "metadata": {},
   "outputs": [
    {
     "name": "stdout",
     "output_type": "stream",
     "text": [
      "Similitud entre las noticias 1 y 3: 0.6905501409296988\n"
     ]
    }
   ],
   "source": [
    "# Cálculo de la similitud entre las noticias\n",
    "similitud = doc1.similarity(doc3)\n",
    "\n",
    "print(f\"Similitud entre las noticias 1 y 3: {similitud}\")"
   ]
  },
  {
   "cell_type": "code",
   "execution_count": 68,
   "id": "324900f1",
   "metadata": {},
   "outputs": [
    {
     "name": "stdout",
     "output_type": "stream",
     "text": [
      "Similitud entre las noticias 2 y 3: 0.48956431183051097\n"
     ]
    }
   ],
   "source": [
    "# Cálculo de la similitud entre las noticias\n",
    "similitud = doc2.similarity(doc3)\n",
    "\n",
    "print(f\"Similitud entre las noticias 2 y 3: {similitud}\")"
   ]
  },
  {
   "cell_type": "code",
   "execution_count": null,
   "id": "3506eefe",
   "metadata": {},
   "outputs": [],
   "source": []
  },
  {
   "cell_type": "code",
   "execution_count": null,
   "id": "bafd03f4",
   "metadata": {},
   "outputs": [],
   "source": []
  }
 ],
 "metadata": {
  "kernelspec": {
   "display_name": "Python 3 (ipykernel)",
   "language": "python",
   "name": "python3"
  },
  "language_info": {
   "codemirror_mode": {
    "name": "ipython",
    "version": 3
   },
   "file_extension": ".py",
   "mimetype": "text/x-python",
   "name": "python",
   "nbconvert_exporter": "python",
   "pygments_lexer": "ipython3",
   "version": "3.8.10"
  }
 },
 "nbformat": 4,
 "nbformat_minor": 5
}
